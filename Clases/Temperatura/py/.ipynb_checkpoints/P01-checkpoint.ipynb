{
 "cells": [
  {
   "cell_type": "code",
   "execution_count": 6,
   "id": "6ab385f2-c06e-4dcd-8f0f-5a1075caa86e",
   "metadata": {},
   "outputs": [],
   "source": [
    "# Carga de librerias\n",
    "import pandas as pd\n",
    "import numpy as np\n",
    "import matplotlib.pyplot as plt"
   ]
  },
  {
   "cell_type": "code",
   "execution_count": 4,
   "id": "bb7d311a-c009-4886-bd88-b24b3f338023",
   "metadata": {},
   "outputs": [
    {
     "data": {
      "text/html": [
       "<div>\n",
       "<style scoped>\n",
       "    .dataframe tbody tr th:only-of-type {\n",
       "        vertical-align: middle;\n",
       "    }\n",
       "\n",
       "    .dataframe tbody tr th {\n",
       "        vertical-align: top;\n",
       "    }\n",
       "\n",
       "    .dataframe thead th {\n",
       "        text-align: right;\n",
       "    }\n",
       "</style>\n",
       "<table border=\"1\" class=\"dataframe\">\n",
       "  <thead>\n",
       "    <tr style=\"text-align: right;\">\n",
       "      <th></th>\n",
       "      <th>CodigoNacional</th>\n",
       "      <th>momento</th>\n",
       "      <th>Ts_Valor</th>\n",
       "    </tr>\n",
       "  </thead>\n",
       "  <tbody>\n",
       "    <tr>\n",
       "      <th>0</th>\n",
       "      <td>330020</td>\n",
       "      <td>01-01-2022 00:00:00</td>\n",
       "      <td>22.3</td>\n",
       "    </tr>\n",
       "    <tr>\n",
       "      <th>1</th>\n",
       "      <td>330020</td>\n",
       "      <td>01-01-2022 01:00:00</td>\n",
       "      <td>19.5</td>\n",
       "    </tr>\n",
       "    <tr>\n",
       "      <th>2</th>\n",
       "      <td>330020</td>\n",
       "      <td>01-01-2022 02:00:00</td>\n",
       "      <td>18.7</td>\n",
       "    </tr>\n",
       "    <tr>\n",
       "      <th>3</th>\n",
       "      <td>330020</td>\n",
       "      <td>01-01-2022 03:00:00</td>\n",
       "      <td>17.4</td>\n",
       "    </tr>\n",
       "    <tr>\n",
       "      <th>4</th>\n",
       "      <td>330020</td>\n",
       "      <td>01-01-2022 04:00:00</td>\n",
       "      <td>17.0</td>\n",
       "    </tr>\n",
       "    <tr>\n",
       "      <th>...</th>\n",
       "      <td>...</td>\n",
       "      <td>...</td>\n",
       "      <td>...</td>\n",
       "    </tr>\n",
       "    <tr>\n",
       "      <th>2931</th>\n",
       "      <td>330020</td>\n",
       "      <td>03-05-2022 03:00:00</td>\n",
       "      <td>8.7</td>\n",
       "    </tr>\n",
       "    <tr>\n",
       "      <th>2932</th>\n",
       "      <td>330020</td>\n",
       "      <td>03-05-2022 04:00:00</td>\n",
       "      <td>7.9</td>\n",
       "    </tr>\n",
       "    <tr>\n",
       "      <th>2933</th>\n",
       "      <td>330020</td>\n",
       "      <td>03-05-2022 05:00:00</td>\n",
       "      <td>7.8</td>\n",
       "    </tr>\n",
       "    <tr>\n",
       "      <th>2934</th>\n",
       "      <td>330020</td>\n",
       "      <td>03-05-2022 06:00:00</td>\n",
       "      <td>7.5</td>\n",
       "    </tr>\n",
       "    <tr>\n",
       "      <th>2935</th>\n",
       "      <td>330020</td>\n",
       "      <td>03-05-2022 07:00:00</td>\n",
       "      <td>7.0</td>\n",
       "    </tr>\n",
       "  </tbody>\n",
       "</table>\n",
       "<p>2936 rows × 3 columns</p>\n",
       "</div>"
      ],
      "text/plain": [
       "      CodigoNacional              momento  Ts_Valor\n",
       "0             330020  01-01-2022 00:00:00      22.3\n",
       "1             330020  01-01-2022 01:00:00      19.5\n",
       "2             330020  01-01-2022 02:00:00      18.7\n",
       "3             330020  01-01-2022 03:00:00      17.4\n",
       "4             330020  01-01-2022 04:00:00      17.0\n",
       "...              ...                  ...       ...\n",
       "2931          330020  03-05-2022 03:00:00       8.7\n",
       "2932          330020  03-05-2022 04:00:00       7.9\n",
       "2933          330020  03-05-2022 05:00:00       7.8\n",
       "2934          330020  03-05-2022 06:00:00       7.5\n",
       "2935          330020  03-05-2022 07:00:00       7.0\n",
       "\n",
       "[2936 rows x 3 columns]"
      ]
     },
     "execution_count": 4,
     "metadata": {},
     "output_type": "execute_result"
    }
   ],
   "source": [
    "# Carga de datos\n",
    "data = pd.read_csv(\"../input/data/Temperatura.csv\")\n",
    "data"
   ]
  },
  {
   "cell_type": "code",
   "execution_count": 11,
   "id": "ec2318a0-f8bb-416e-b91f-d457ff7542e1",
   "metadata": {},
   "outputs": [
    {
     "data": {
      "text/plain": [
       "Index(['CodigoNacional', 'momento', 'Ts_Valor'], dtype='object')"
      ]
     },
     "execution_count": 11,
     "metadata": {},
     "output_type": "execute_result"
    }
   ],
   "source": [
    "data.columns"
   ]
  },
  {
   "cell_type": "code",
   "execution_count": 5,
   "id": "5a34a75b-a88f-46e1-953d-6b94075a57cf",
   "metadata": {},
   "outputs": [
    {
     "data": {
      "text/html": [
       "<div>\n",
       "<style scoped>\n",
       "    .dataframe tbody tr th:only-of-type {\n",
       "        vertical-align: middle;\n",
       "    }\n",
       "\n",
       "    .dataframe tbody tr th {\n",
       "        vertical-align: top;\n",
       "    }\n",
       "\n",
       "    .dataframe thead th {\n",
       "        text-align: right;\n",
       "    }\n",
       "</style>\n",
       "<table border=\"1\" class=\"dataframe\">\n",
       "  <thead>\n",
       "    <tr style=\"text-align: right;\">\n",
       "      <th></th>\n",
       "      <th>CodigoNacional</th>\n",
       "      <th>momento</th>\n",
       "      <th>Ts_Valor</th>\n",
       "    </tr>\n",
       "  </thead>\n",
       "  <tbody>\n",
       "    <tr>\n",
       "      <th>0</th>\n",
       "      <td>330020</td>\n",
       "      <td>01-01-2022 00:00:00</td>\n",
       "      <td>22.3</td>\n",
       "    </tr>\n",
       "    <tr>\n",
       "      <th>1</th>\n",
       "      <td>330020</td>\n",
       "      <td>01-01-2022 01:00:00</td>\n",
       "      <td>19.5</td>\n",
       "    </tr>\n",
       "    <tr>\n",
       "      <th>2</th>\n",
       "      <td>330020</td>\n",
       "      <td>01-01-2022 02:00:00</td>\n",
       "      <td>18.7</td>\n",
       "    </tr>\n",
       "    <tr>\n",
       "      <th>3</th>\n",
       "      <td>330020</td>\n",
       "      <td>01-01-2022 03:00:00</td>\n",
       "      <td>17.4</td>\n",
       "    </tr>\n",
       "    <tr>\n",
       "      <th>4</th>\n",
       "      <td>330020</td>\n",
       "      <td>01-01-2022 04:00:00</td>\n",
       "      <td>17.0</td>\n",
       "    </tr>\n",
       "  </tbody>\n",
       "</table>\n",
       "</div>"
      ],
      "text/plain": [
       "   CodigoNacional              momento  Ts_Valor\n",
       "0          330020  01-01-2022 00:00:00      22.3\n",
       "1          330020  01-01-2022 01:00:00      19.5\n",
       "2          330020  01-01-2022 02:00:00      18.7\n",
       "3          330020  01-01-2022 03:00:00      17.4\n",
       "4          330020  01-01-2022 04:00:00      17.0"
      ]
     },
     "execution_count": 5,
     "metadata": {},
     "output_type": "execute_result"
    }
   ],
   "source": [
    "data.head()"
   ]
  },
  {
   "cell_type": "code",
   "execution_count": 7,
   "id": "78891e6b-edae-4a30-bfef-d2adc100263d",
   "metadata": {},
   "outputs": [
    {
     "data": {
      "text/plain": [
       "(2936, 3)"
      ]
     },
     "execution_count": 7,
     "metadata": {},
     "output_type": "execute_result"
    }
   ],
   "source": [
    "data.shape"
   ]
  },
  {
   "cell_type": "code",
   "execution_count": 8,
   "id": "8fd76978-1b8e-44a7-b893-5559ef9a0da8",
   "metadata": {},
   "outputs": [
    {
     "data": {
      "text/plain": [
       "CodigoNacional      int64\n",
       "momento            object\n",
       "Ts_Valor          float64\n",
       "dtype: object"
      ]
     },
     "execution_count": 8,
     "metadata": {},
     "output_type": "execute_result"
    }
   ],
   "source": [
    "data.dtypes"
   ]
  },
  {
   "cell_type": "code",
   "execution_count": 12,
   "id": "ba72fd41-70e5-4edf-8de7-fc08f786a32d",
   "metadata": {},
   "outputs": [
    {
     "name": "stdout",
     "output_type": "stream",
     "text": [
      "<class 'pandas.core.frame.DataFrame'>\n",
      "RangeIndex: 2936 entries, 0 to 2935\n",
      "Data columns (total 3 columns):\n",
      " #   Column          Non-Null Count  Dtype  \n",
      "---  ------          --------------  -----  \n",
      " 0   CodigoNacional  2936 non-null   int64  \n",
      " 1   momento         2936 non-null   object \n",
      " 2   Ts_Valor        2936 non-null   float64\n",
      "dtypes: float64(1), int64(1), object(1)\n",
      "memory usage: 68.9+ KB\n"
     ]
    }
   ],
   "source": [
    "data.info()"
   ]
  },
  {
   "cell_type": "code",
   "execution_count": 13,
   "id": "647b6938-2d46-43c9-b656-52863d3001b3",
   "metadata": {},
   "outputs": [
    {
     "data": {
      "text/html": [
       "<div>\n",
       "<style scoped>\n",
       "    .dataframe tbody tr th:only-of-type {\n",
       "        vertical-align: middle;\n",
       "    }\n",
       "\n",
       "    .dataframe tbody tr th {\n",
       "        vertical-align: top;\n",
       "    }\n",
       "\n",
       "    .dataframe thead th {\n",
       "        text-align: right;\n",
       "    }\n",
       "</style>\n",
       "<table border=\"1\" class=\"dataframe\">\n",
       "  <thead>\n",
       "    <tr style=\"text-align: right;\">\n",
       "      <th></th>\n",
       "      <th>CodigoNacional</th>\n",
       "      <th>Ts_Valor</th>\n",
       "    </tr>\n",
       "  </thead>\n",
       "  <tbody>\n",
       "    <tr>\n",
       "      <th>count</th>\n",
       "      <td>2936.0</td>\n",
       "      <td>2936.000000</td>\n",
       "    </tr>\n",
       "    <tr>\n",
       "      <th>mean</th>\n",
       "      <td>330020.0</td>\n",
       "      <td>18.611444</td>\n",
       "    </tr>\n",
       "    <tr>\n",
       "      <th>std</th>\n",
       "      <td>0.0</td>\n",
       "      <td>6.583129</td>\n",
       "    </tr>\n",
       "    <tr>\n",
       "      <th>min</th>\n",
       "      <td>330020.0</td>\n",
       "      <td>4.700000</td>\n",
       "    </tr>\n",
       "    <tr>\n",
       "      <th>25%</th>\n",
       "      <td>330020.0</td>\n",
       "      <td>13.500000</td>\n",
       "    </tr>\n",
       "    <tr>\n",
       "      <th>50%</th>\n",
       "      <td>330020.0</td>\n",
       "      <td>18.000000</td>\n",
       "    </tr>\n",
       "    <tr>\n",
       "      <th>75%</th>\n",
       "      <td>330020.0</td>\n",
       "      <td>23.900000</td>\n",
       "    </tr>\n",
       "    <tr>\n",
       "      <th>max</th>\n",
       "      <td>330020.0</td>\n",
       "      <td>33.700000</td>\n",
       "    </tr>\n",
       "  </tbody>\n",
       "</table>\n",
       "</div>"
      ],
      "text/plain": [
       "       CodigoNacional     Ts_Valor\n",
       "count          2936.0  2936.000000\n",
       "mean         330020.0    18.611444\n",
       "std               0.0     6.583129\n",
       "min          330020.0     4.700000\n",
       "25%          330020.0    13.500000\n",
       "50%          330020.0    18.000000\n",
       "75%          330020.0    23.900000\n",
       "max          330020.0    33.700000"
      ]
     },
     "execution_count": 13,
     "metadata": {},
     "output_type": "execute_result"
    }
   ],
   "source": [
    "data.describe()"
   ]
  },
  {
   "cell_type": "code",
   "execution_count": 16,
   "id": "d68e499e-4075-4df7-9c72-be4adea91b89",
   "metadata": {},
   "outputs": [
    {
     "data": {
      "text/plain": [
       "[<matplotlib.lines.Line2D at 0x1d6958d3b50>]"
      ]
     },
     "execution_count": 16,
     "metadata": {},
     "output_type": "execute_result"
    },
    {
     "data": {
      "image/png": "[encoded data removed]",
      "text/plain": [
       "<Figure size 640x480 with 1 Axes>"
      ]
     },
     "metadata": {},
     "output_type": "display_data"
    }
   ],
   "source": [
    "plt.plot(data[\"Ts_Valor\"])"
   ]
  },
  {
   "cell_type": "code",
   "execution_count": 18,
   "id": "b2dbb41e-4da0-41a2-becb-44029bbddda2",
   "metadata": {},
   "outputs": [],
   "source": [
    "dn = data[\"CodigoNacional\"]\n",
    "T = data[\"Ts_Valor\"]"
   ]
  },
  {
   "cell_type": "code",
   "execution_count": 19,
   "id": "7b887970-5887-459d-93f0-d25e9b660d5c",
   "metadata": {},
   "outputs": [
    {
     "data": {
      "text/plain": [
       "count    2936.000000\n",
       "mean       18.611444\n",
       "std         6.583129\n",
       "min         4.700000\n",
       "25%        13.500000\n",
       "50%        18.000000\n",
       "75%        23.900000\n",
       "max        33.700000\n",
       "Name: Ts_Valor, dtype: float64"
      ]
     },
     "execution_count": 19,
     "metadata": {},
     "output_type": "execute_result"
    }
   ],
   "source": [
    "T.describe()"
   ]
  }
 ],
 "metadata": {
  "kernelspec": {
   "display_name": "Python 3 (ipykernel)",
   "language": "python",
   "name": "python3"
  },
  "language_info": {
   "codemirror_mode": {
    "name": "ipython",
    "version": 3
   },
   "file_extension": ".py",
   "mimetype": "text/x-python",
   "name": "python",
   "nbconvert_exporter": "python",
   "pygments_lexer": "ipython3",
   "version": "3.11.7"
  }
 },
 "nbformat": 4,
 "nbformat_minor": 5
}
